{
 "cells": [
  {
   "cell_type": "code",
   "execution_count": 107,
   "metadata": {},
   "outputs": [],
   "source": [
    "import numpy as np\n",
    "import matplotlib.pyplot as plt"
   ]
  },
  {
   "cell_type": "code",
   "execution_count": 108,
   "metadata": {},
   "outputs": [],
   "source": [
    "def load_biopsy():\n",
    "    # import data\n",
    "    biopsy = pd.read_csv('biopsy.csv', na_values='?', \n",
    "                         dtype={'ID': str}).dropna().reset_index()\n",
    "    \n",
    "    # Split in training and test data\n",
    "    trainI = np.random.choice(biopsy.shape[0], size=300, replace=False)    \n",
    "    trainIndex=biopsy.index.isin(trainI)    \n",
    "    train=biopsy.iloc[trainIndex] # training set\n",
    "    test=biopsy.iloc[~trainIndex] # test set    \n",
    "    \n",
    "    # Extract relevant data features\n",
    "    X_train = train[['V1','V2','V3','V4','V5','V6','V7','V8','V9']].values\n",
    "    X_test = test[['V1','V2','V3','V4','V5','V6','V7','V8','V9']].values    \n",
    "    Y_train=(train['class']=='malignant').astype(int).values.reshape((-1,1))\n",
    "    Y_test=(test['class']=='malignant').astype(int).values.reshape((-1,1))\n",
    "    \n",
    "    return X_train, Y_train, X_test, Y_test"
   ]
  },
  {
   "cell_type": "code",
   "execution_count": 109,
   "metadata": {},
   "outputs": [],
   "source": [
    "def initialize(x_train,y_train):\n",
    "   # w = np.random.random([x_train.shape[1]])\n",
    "    w=np.array([0.39401661, 0.47478989, 0.06309985, 0.99740423, 0.33530285,\n",
    "                0.60437357, 0.74371789, 0.3407668 , 0.81388953])\n",
    "    n = x_train.shape[0]\n",
    "    x = np.transpose(x_train)\n",
    "    b = 0\n",
    "    alpha = -0.8\n",
    "    min_cost = 0.062\n",
    "    return w,x,n,b,alpha,min_cost"
   ]
  },
  {
   "cell_type": "code",
   "execution_count": 110,
   "metadata": {},
   "outputs": [],
   "source": [
    "# Sigma(z) using activation functio = sigmoid\n",
    "def sigma(z_i,activation=False):\n",
    "    if(activation==False):\n",
    "        return print('Please choose an activation function')\n",
    "    elif(activation=='sigmoid'):\n",
    "        sig = 1/(1+np.exp(-z_i))\n",
    "        return sig"
   ]
  },
  {
   "cell_type": "code",
   "execution_count": 111,
   "metadata": {},
   "outputs": [],
   "source": [
    "# Function to calculate the loss (Cross Entropy) and cost function\n",
    "def cost_function(y_i,p_i,loss_function=False): \n",
    "    if(loss_function==False):\n",
    "        return print('Please choose a loss function')\n",
    "    elif(loss_function=='cross_entropy'):\n",
    "        n = y_i.shape[0]\n",
    "        loss_calc = -(y_i*np.log(p_i) + (1-y_i)*(np.log(1-p_i)))\n",
    "        cost_calc = (1/n)*np.sum(loss_calc)\n",
    "        return loss_calc,cost_calc"
   ]
  },
  {
   "cell_type": "code",
   "execution_count": 112,
   "metadata": {},
   "outputs": [],
   "source": [
    "def grad(p_in,y_in,x_in):\n",
    "    n_in = y_in.shape[0]\n",
    "    dLdb = p_in - y_in\n",
    "    dJdb = (1/n_in)*np.sum(dLdb)  \n",
    "    dJdw = (1/n)*np.dot(dLdb,x_in) # vector dJ/dW_j to update w_j\n",
    "    return dJdw,dJdb"
   ]
  },
  {
   "cell_type": "code",
   "execution_count": 113,
   "metadata": {},
   "outputs": [],
   "source": [
    "X_train, Y_train, X_test, Y_test=load_biopsy()\n",
    "X_train = X_train/np.max(X_train)\n",
    "Y_train = np.reshape(Y_train,(Y_train.shape[0],))"
   ]
  },
  {
   "cell_type": "code",
   "execution_count": 114,
   "metadata": {},
   "outputs": [],
   "source": [
    "X_test = X_test/np.max(X_test)\n",
    "Y_test = np.reshape(Y_test,(Y_test.shape[0],))"
   ]
  },
  {
   "cell_type": "code",
   "execution_count": 115,
   "metadata": {},
   "outputs": [],
   "source": [
    "w,x,n,b,alpha,min_cost=initialize(X_train,Y_train) # Initialize variables"
   ]
  },
  {
   "cell_type": "code",
   "execution_count": 116,
   "metadata": {},
   "outputs": [
    {
     "data": {
      "text/plain": [
       "array([0.39401661, 0.47478989, 0.06309985, 0.99740423, 0.33530285,\n",
       "       0.60437357, 0.74371789, 0.3407668 , 0.81388953])"
      ]
     },
     "execution_count": 116,
     "metadata": {},
     "output_type": "execute_result"
    }
   ],
   "source": [
    "z = np.dot(w,x)+b\n",
    "p_i=sigma(z,activation='sigmoid')\n",
    "w"
   ]
  },
  {
   "cell_type": "code",
   "execution_count": 117,
   "metadata": {
    "collapsed": true
   },
   "outputs": [
    {
     "name": "stdout",
     "output_type": "stream",
     "text": [
      "Cost Function = 0.7344820686261995 \n",
      "Loss Function vector = [1.18259519 1.8272212  1.29627854 0.03036081 1.05307539 1.15726501\n",
      " 0.03541129 1.10508672 0.07151908 1.21008508 0.04699983 1.13161043\n",
      " 1.05307539 1.05690237 0.06899869 0.15817875 0.06420526 0.14655313\n",
      " 0.10278957 1.29627854 0.10756239 0.18722563 0.20014757 0.12962418\n",
      " 0.03711084 0.06831901 0.12371811 0.18441173 0.16724366 0.1431754\n",
      " 1.06682266 1.02759654 0.11214509 0.12425978 0.04680896 1.09857195\n",
      " 0.02735827 0.04716031 1.26755816 0.05686023 0.14417196 1.09572303\n",
      " 1.10212501 0.03054195 0.12997558 0.04444399 0.06134756 1.20287532\n",
      " 1.14712437 0.13953914 1.02759654 1.14017766 1.10116366 1.27350266\n",
      " 0.11522385 1.13824056 0.17781532 1.05401316 0.04997373 1.13642694\n",
      " 0.98047978 1.06246697 1.22113707 0.04836776 0.04126435 1.02236333\n",
      " 1.03044443 1.02759654 0.01349706 0.05098345 1.10212501 1.05401316\n",
      " 1.21008508 1.07985746 0.03475047 0.03423742 0.03296413 1.13161043\n",
      " 1.12861027 1.39924131 0.05496734 0.02426817 1.05401316 1.05401316\n",
      " 1.15946134 0.01733054 0.04421273 0.01897141 0.06248213 1.21895877\n",
      " 1.14282243 0.28471267 0.0506967  0.09562182 0.03692253 0.07378396\n",
      " 0.02270231 0.11079395 1.34969033 1.27522513 2.34035919 0.06420526\n",
      " 0.10332377 1.03044443 1.07890688 1.21965276 0.12148726 0.14840292\n",
      " 0.25308396 1.07598413 0.06880664 0.01908028 0.01319739 1.10116366\n",
      " 0.17845219 0.04462653 0.10395082 1.26555053 0.06672882 0.08804514\n",
      " 0.0147154  1.07598413 1.07598413 0.0586424  0.98047978 0.98047978\n",
      " 0.13699069 1.14340172 0.0652729  1.12861027 1.16103879 0.11588924\n",
      " 0.10089267 0.10805072 0.08022157 1.00619519 1.005282   0.03258964\n",
      " 1.25762151 1.21805415 1.81582882 0.02290543 0.11247251 0.01148448\n",
      " 0.04210857 1.37597193 0.01684258 0.98838425 1.01421965 0.98838425\n",
      " 1.10931136 1.08307614 0.98047978 1.00619519 1.3354803  1.005282\n",
      " 0.10455898 1.22012205 1.09277513 0.05730232 0.95965988 1.06660071\n",
      " 1.07890688 1.05596315 1.20574092 1.15075904 1.02759654 1.14138021\n",
      " 1.02759654 1.28407448 0.10242322 0.0586574  1.42208119 1.13362492\n",
      " 1.27908188 1.16722705 0.133453   1.02759654 1.4002936  1.20050457\n",
      " 1.05596315 1.1992696  1.08183404 1.46497009 1.19232894 1.01867111\n",
      " 1.52100686 0.98047978 1.08183404 0.95965988 0.03968944 1.2190683\n",
      " 1.1632149  0.0443375  1.08600957 1.090194   1.24596142 0.0432753\n",
      " 1.05596315 1.24596142 1.03044443 1.06008268 0.04450223 1.36369308\n",
      " 0.04580935 1.08600957 0.08905661 0.03561075 2.08742475 0.95965988\n",
      " 1.08718068 1.10508672 1.172884   0.98047978 0.02896273 1.08183404\n",
      " 1.005282   0.03393338 0.95965988 1.09992803 1.00156321 1.07795677\n",
      " 0.11320234 0.05664786 1.09572303 1.18468952 1.08278605 1.14138021\n",
      " 1.18259519 1.1869755  1.15847333 1.03044443 0.98415266 1.0090088\n",
      " 0.06106916 1.31310903 1.44391777 1.21805415 1.05307539 1.13161043\n",
      " 1.18259519 1.13288344 0.13711818 0.05726273 0.0485711  0.09923443\n",
      " 1.1869755  1.02759654 1.02759654 0.06285678 0.0563244  1.03044443\n",
      " 1.46336351 0.08057281 1.08183404 0.10161557 0.07860523 1.13161043\n",
      " 1.10368839 1.07890688 1.00619519 1.10508672 0.08402001 0.06417748\n",
      " 0.98047978 1.08183404 1.13161043 1.07890688 1.17694202 1.18253653\n",
      " 0.07306261 1.14870365 1.13161043 1.04266031 0.03500535 1.05596315\n",
      " 1.21805415 1.19047026 1.07890688 1.005282   1.01442839 0.01665255\n",
      " 1.07890688 1.15482326 1.12861027 1.13161043 1.03571853 1.21493554\n",
      " 1.23053596 1.10212501 1.08183404 0.01275379 0.03653064 1.20635083\n",
      " 0.98047978 0.98047978 1.12440763 1.09188378 1.005282   0.07528016]\n"
     ]
    }
   ],
   "source": [
    "l,j= cost_function(Y_train,p_i,loss_function='cross_entropy') # l = loss function\n",
    "print('Cost Function =',j,'\\nLoss Function vector =',l)"
   ]
  },
  {
   "cell_type": "code",
   "execution_count": 118,
   "metadata": {},
   "outputs": [
    {
     "data": {
      "text/plain": [
       "array([0.11613436, 0.03835325, 0.04493275, 0.05076212, 0.07284344,\n",
       "       0.03616606, 0.06466419, 0.03730824, 0.03680944])"
      ]
     },
     "execution_count": 118,
     "metadata": {},
     "output_type": "execute_result"
    }
   ],
   "source": [
    "dw,db= grad(p_i,Y_train,X_train)\n",
    "dw"
   ]
  },
  {
   "cell_type": "code",
   "execution_count": 119,
   "metadata": {},
   "outputs": [],
   "source": [
    "w += alpha*dw\n",
    "b += alpha*db"
   ]
  },
  {
   "cell_type": "code",
   "execution_count": 120,
   "metadata": {},
   "outputs": [
    {
     "name": "stdout",
     "output_type": "stream",
     "text": [
      "w = [0.30110912 0.44410729 0.02715365 0.95679453 0.2770281  0.57544073\n",
      " 0.69198654 0.31092021 0.78444198] \n",
      " b = -0.31144362404165904\n"
     ]
    }
   ],
   "source": [
    "print('w =',w,'\\n b =',b)"
   ]
  },
  {
   "cell_type": "code",
   "execution_count": null,
   "metadata": {
    "collapsed": true
   },
   "outputs": [],
   "source": [
    "counter = 0\n",
    "cost = [];iter = [];\n",
    "while(j>min_cost):\n",
    "#for j in range(100):\n",
    "    z = np.dot(w,x)+b\n",
    "    counter+=1\n",
    "    p_i=sigma(z,activation='sigmoid')\n",
    "    l,j= cost_function(Y_train,p_i,loss_function='cross_entropy')\n",
    "    cost.append(j)\n",
    "    iter.append(counter)\n",
    "    print('Cost Function =',j,'\\n')\n",
    "    dw,db = grad(p_i,Y_train,X_train)\n",
    "    w +=alpha*dw\n",
    "    b +=alpha*db\n",
    "print('Number of iterations = ',counter)"
   ]
  },
  {
   "cell_type": "code",
   "execution_count": 122,
   "metadata": {},
   "outputs": [],
   "source": [
    "prediction_train = np.where(p_i>0.5,1,0)"
   ]
  },
  {
   "cell_type": "code",
   "execution_count": 123,
   "metadata": {},
   "outputs": [
    {
     "data": {
      "text/plain": [
       "0.98"
      ]
     },
     "execution_count": 123,
     "metadata": {},
     "output_type": "execute_result"
    }
   ],
   "source": [
    "np.mean(prediction_train == Y_train)"
   ]
  },
  {
   "cell_type": "code",
   "execution_count": 124,
   "metadata": {},
   "outputs": [
    {
     "name": "stdout",
     "output_type": "stream",
     "text": [
      "col_0    0    1\n",
      "row_0          \n",
      "0      182    3\n",
      "1        3  112\n"
     ]
    }
   ],
   "source": [
    "print(pd.crosstab(prediction_train, Y_train)) "
   ]
  },
  {
   "cell_type": "code",
   "execution_count": 125,
   "metadata": {},
   "outputs": [],
   "source": [
    "z_test = np.dot(w,np.transpose(X_test))+b\n",
    "p_i_test=sigma(z_test,activation='sigmoid')\n",
    "prediction_test = np.where(p_i_test>0.5,1,0)"
   ]
  },
  {
   "cell_type": "code",
   "execution_count": 126,
   "metadata": {},
   "outputs": [
    {
     "data": {
      "text/plain": [
       "0.9660574412532638"
      ]
     },
     "execution_count": 126,
     "metadata": {},
     "output_type": "execute_result"
    }
   ],
   "source": [
    "np.mean(prediction_test == Y_test)"
   ]
  },
  {
   "cell_type": "code",
   "execution_count": 127,
   "metadata": {},
   "outputs": [
    {
     "name": "stdout",
     "output_type": "stream",
     "text": [
      "col_0    0    1\n",
      "row_0          \n",
      "0      252    6\n",
      "1        7  118\n"
     ]
    }
   ],
   "source": [
    "print(pd.crosstab(prediction_test, Y_test))"
   ]
  },
  {
   "cell_type": "code",
   "execution_count": 183,
   "metadata": {},
   "outputs": [
    {
     "data": {
      "image/png": "[encoded data removed]",
      "text/plain": [
       "<Figure size 720x480 with 1 Axes>"
      ]
     },
     "metadata": {
      "needs_background": "light"
     },
     "output_type": "display_data"
    }
   ],
   "source": [
    "plt.figure(dpi = 120)\n",
    "s = np.random.rand(*x.shape)*20\n",
    "plt.scatter(iter,cost,s,c=\"g\", marker=\"s\", alpha=0.5,label=\"Luck\")\n",
    "plt.xlabel(\"Iterations\")\n",
    "plt.ylabel(\"Cost Function\")\n",
    "plt.legend(loc='upper right')\n",
    "plt.show()"
   ]
  },
  {
   "cell_type": "code",
   "execution_count": null,
   "metadata": {},
   "outputs": [],
   "source": []
  }
 ],
 "metadata": {
  "kernelspec": {
   "display_name": "Python 3",
   "language": "python",
   "name": "python3"
  },
  "language_info": {
   "codemirror_mode": {
    "name": "ipython",
    "version": 3
   },
   "file_extension": ".py",
   "mimetype": "text/x-python",
   "name": "python",
   "nbconvert_exporter": "python",
   "pygments_lexer": "ipython3",
   "version": "3.6.8"
  }
 },
 "nbformat": 4,
 "nbformat_minor": 2
}
