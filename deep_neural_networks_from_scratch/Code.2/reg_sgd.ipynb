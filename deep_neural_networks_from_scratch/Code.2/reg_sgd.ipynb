{
 "cells": [
  {
   "cell_type": "code",
   "execution_count": 2,
   "metadata": {},
   "outputs": [],
   "source": [
    "import numpy as np\n",
    "import matplotlib.pyplot as plt\n",
    "import pandas as pd"
   ]
  },
  {
   "cell_type": "code",
   "execution_count": 3,
   "metadata": {},
   "outputs": [],
   "source": [
    "# Initial Parameters\n",
    "x_t = np.array([[1,1],[3,4],[5,5],[7,7],[1,4],[4,4]]) # rescaling factor\n",
    "x = np.transpose(x_t)\n",
    "y_i = np.array([[1],[0],[1],[1],[0],[1]])\n",
    "w = np.random.random([x.shape[0]])\n",
    "b = 0\n",
    "alpha = -0.5\n",
    "n = y_i.shape[0]\n",
    "min_cost = 0.001"
   ]
  },
  {
   "cell_type": "code",
   "execution_count": 4,
   "metadata": {},
   "outputs": [
    {
     "data": {
      "text/plain": [
       "array([1, 0, 1, 1, 0, 1])"
      ]
     },
     "execution_count": 4,
     "metadata": {},
     "output_type": "execute_result"
    }
   ],
   "source": [
    "np.reshape(y_i,(y_i.shape[0],))"
   ]
  },
  {
   "cell_type": "code",
   "execution_count": 5,
   "metadata": {},
   "outputs": [],
   "source": [
    "# Calculate probability using softmax(z_i)\n",
    "def sigma(z_i,activation=False):\n",
    "    if(activation==False):\n",
    "        return print('Please choose an activation function')\n",
    "    elif(activation=='sigmoid'):\n",
    "        sig = 1/(1+np.exp(-z_i))\n",
    "        return sig"
   ]
  },
  {
   "cell_type": "code",
   "execution_count": 6,
   "metadata": {},
   "outputs": [],
   "source": [
    "def cost_function(y_i,p_i,loss_function=False): # Calculate the loss and cost function using entering arrays\n",
    "    if(loss_function==False):\n",
    "        return print('Please choose a loss function')\n",
    "    elif(loss_function=='cross_entropy'):\n",
    "        n = y_i.shape[0]\n",
    "        loss_calc = -(y_i*np.log(p_i)+ (1-y_i)*(np.log(1-p_i)))\n",
    "        cost_calc = (1/n)*np.sum(loss_calc)\n",
    "        return loss_calc,cost_calc"
   ]
  },
  {
   "cell_type": "code",
   "execution_count": 7,
   "metadata": {},
   "outputs": [],
   "source": [
    "def grad(p_in,y_in,x_in):\n",
    "    n_in = y_in.shape[0]\n",
    "    dLdb = p_in - y_in\n",
    "    dJdb = (1/n_in)*np.sum(dLdb)  \n",
    "    dJdw = (1/n)*np.dot(dLdb,x_in) # vector dJ/dW_j to update w_j\n",
    "    return dJdw,dJdb"
   ]
  },
  {
   "cell_type": "code",
   "execution_count": 8,
   "metadata": {},
   "outputs": [],
   "source": [
    "z = np.dot(w,x)+b\n",
    "p_i=sigma(z,activation='sigmoid')\n",
    "#print('z =',z,'\\ny_i =',y_i,'n =',n, 'w =',w)\n",
    "#print('p_i = ',p_i)"
   ]
  },
  {
   "cell_type": "code",
   "execution_count": 9,
   "metadata": {},
   "outputs": [
    {
     "name": "stdout",
     "output_type": "stream",
     "text": [
      "Cost Function = 9.823489895360346 \n",
      "Loss Function vector = [[2.43325365e-01 1.49792764e-02 1.58538259e-03 1.20404745e-04\n",
      "  9.86029927e-02 5.74295021e-03]\n",
      " [1.53255271e+00 4.20856789e+00 6.44772211e+00 9.02471182e+00\n",
      "  2.36555009e+00 5.16265233e+00]\n",
      " [2.43325365e-01 1.49792764e-02 1.58538259e-03 1.20404745e-04\n",
      "  9.86029927e-02 5.74295021e-03]\n",
      " [2.43325365e-01 1.49792764e-02 1.58538259e-03 1.20404745e-04\n",
      "  9.86029927e-02 5.74295021e-03]\n",
      " [1.53255271e+00 4.20856789e+00 6.44772211e+00 9.02471182e+00\n",
      "  2.36555009e+00 5.16265233e+00]\n",
      " [2.43325365e-01 1.49792764e-02 1.58538259e-03 1.20404745e-04\n",
      "  9.86029927e-02 5.74295021e-03]]\n"
     ]
    }
   ],
   "source": [
    "l,j= cost_function(y_i,p_i,loss_function='cross_entropy') # l = loss function\n",
    "print('Cost Function =',j,'\\nLoss Function vector =',l)"
   ]
  },
  {
   "cell_type": "code",
   "execution_count": 10,
   "metadata": {},
   "outputs": [
    {
     "name": "stdout",
     "output_type": "stream",
     "text": [
      "[[-0.06435893 -0.11378569]\n",
      " [ 3.43564107  4.05288098]\n",
      " [-0.06435893 -0.11378569]\n",
      " [-0.06435893 -0.11378569]\n",
      " [ 3.43564107  4.05288098]\n",
      " [-0.06435893 -0.11378569]]\n"
     ]
    }
   ],
   "source": [
    "dw,db= grad(p_i,y_i,x_t)\n",
    "print(dw)"
   ]
  },
  {
   "cell_type": "code",
   "execution_count": 12,
   "metadata": {},
   "outputs": [
    {
     "ename": "ValueError",
     "evalue": "non-broadcastable output operand with shape (2,) doesn't match the broadcast shape (6,2)",
     "output_type": "error",
     "traceback": [
      "\u001b[0;31m---------------------------------------------------------------------------\u001b[0m",
      "\u001b[0;31mValueError\u001b[0m                                Traceback (most recent call last)",
      "\u001b[0;32m<ipython-input-12-a53946ca1b83>\u001b[0m in \u001b[0;36m<module>\u001b[0;34m\u001b[0m\n\u001b[0;32m----> 1\u001b[0;31m \u001b[0mw\u001b[0m \u001b[0;34m+=\u001b[0m \u001b[0malpha\u001b[0m\u001b[0;34m*\u001b[0m\u001b[0mdw\u001b[0m\u001b[0;34m\u001b[0m\u001b[0;34m\u001b[0m\u001b[0m\n\u001b[0m\u001b[1;32m      2\u001b[0m \u001b[0mb\u001b[0m \u001b[0;34m+=\u001b[0m \u001b[0malpha\u001b[0m\u001b[0;34m*\u001b[0m\u001b[0mdb\u001b[0m\u001b[0;34m\u001b[0m\u001b[0;34m\u001b[0m\u001b[0m\n",
      "\u001b[0;31mValueError\u001b[0m: non-broadcastable output operand with shape (2,) doesn't match the broadcast shape (6,2)"
     ]
    }
   ],
   "source": [
    "w += alpha*dw\n",
    "b += alpha*db"
   ]
  },
  {
   "cell_type": "code",
   "execution_count": 13,
   "metadata": {},
   "outputs": [
    {
     "name": "stdout",
     "output_type": "stream",
     "text": [
      "w = [0.96332076 0.32590658] \n",
      " b = 0\n"
     ]
    }
   ],
   "source": [
    "print('w =',w,'\\n b =',b)"
   ]
  },
  {
   "cell_type": "code",
   "execution_count": 14,
   "metadata": {},
   "outputs": [
    {
     "name": "stdout",
     "output_type": "stream",
     "text": [
      "Cost Function = 9.823489895360346 \n",
      "\n"
     ]
    },
    {
     "ename": "ValueError",
     "evalue": "non-broadcastable output operand with shape (2,) doesn't match the broadcast shape (6,2)",
     "output_type": "error",
     "traceback": [
      "\u001b[0;31m---------------------------------------------------------------------------\u001b[0m",
      "\u001b[0;31mValueError\u001b[0m                                Traceback (most recent call last)",
      "\u001b[0;32m<ipython-input-14-cc07de654abe>\u001b[0m in \u001b[0;36m<module>\u001b[0;34m\u001b[0m\n\u001b[1;32m      8\u001b[0m     \u001b[0mprint\u001b[0m\u001b[0;34m(\u001b[0m\u001b[0;34m'Cost Function ='\u001b[0m\u001b[0;34m,\u001b[0m\u001b[0mj\u001b[0m\u001b[0;34m,\u001b[0m\u001b[0;34m'\\n'\u001b[0m\u001b[0;34m)\u001b[0m\u001b[0;34m\u001b[0m\u001b[0;34m\u001b[0m\u001b[0m\n\u001b[1;32m      9\u001b[0m     \u001b[0mdw\u001b[0m\u001b[0;34m,\u001b[0m\u001b[0mdb\u001b[0m \u001b[0;34m=\u001b[0m \u001b[0mgrad\u001b[0m\u001b[0;34m(\u001b[0m\u001b[0mp_i\u001b[0m\u001b[0;34m,\u001b[0m\u001b[0my_i\u001b[0m\u001b[0;34m,\u001b[0m\u001b[0mx_t\u001b[0m\u001b[0;34m)\u001b[0m\u001b[0;34m\u001b[0m\u001b[0;34m\u001b[0m\u001b[0m\n\u001b[0;32m---> 10\u001b[0;31m     \u001b[0mw\u001b[0m \u001b[0;34m+=\u001b[0m\u001b[0malpha\u001b[0m\u001b[0;34m*\u001b[0m\u001b[0mdw\u001b[0m\u001b[0;34m\u001b[0m\u001b[0;34m\u001b[0m\u001b[0m\n\u001b[0m\u001b[1;32m     11\u001b[0m     \u001b[0mb\u001b[0m \u001b[0;34m+=\u001b[0m\u001b[0malpha\u001b[0m\u001b[0;34m*\u001b[0m\u001b[0mdb\u001b[0m\u001b[0;34m\u001b[0m\u001b[0;34m\u001b[0m\u001b[0m\n\u001b[1;32m     12\u001b[0m \u001b[0mprint\u001b[0m\u001b[0;34m(\u001b[0m\u001b[0;34m'Number of iterations = '\u001b[0m\u001b[0;34m,\u001b[0m\u001b[0mcounter\u001b[0m\u001b[0;34m)\u001b[0m\u001b[0;34m\u001b[0m\u001b[0;34m\u001b[0m\u001b[0m\n",
      "\u001b[0;31mValueError\u001b[0m: non-broadcastable output operand with shape (2,) doesn't match the broadcast shape (6,2)"
     ]
    }
   ],
   "source": [
    "counter = 0\n",
    "while(j>min_cost):\n",
    "#for j in range(100):\n",
    "    z = np.dot(w,x)+b\n",
    "    counter+=1\n",
    "    p_i=sigma(z,activation='sigmoid')\n",
    "    l,j= cost_function(y_i,p_i,loss_function='cross_entropy')\n",
    "    print('Cost Function =',j,'\\n')\n",
    "    dw,db = grad(p_i,y_i,x_t)\n",
    "    w +=alpha*dw\n",
    "    b +=alpha*db\n",
    "print('Number of iterations = ',counter)"
   ]
  },
  {
   "cell_type": "code",
   "execution_count": 15,
   "metadata": {},
   "outputs": [
    {
     "data": {
      "text/plain": [
       "array([1, 1, 1, 1, 1, 1])"
      ]
     },
     "execution_count": 15,
     "metadata": {},
     "output_type": "execute_result"
    }
   ],
   "source": [
    "np.where(p_i>0.5,1,0)"
   ]
  },
  {
   "cell_type": "code",
   "execution_count": 16,
   "metadata": {},
   "outputs": [
    {
     "name": "stdout",
     "output_type": "stream",
     "text": [
      "0.9985257516516469\n"
     ]
    }
   ],
   "source": [
    "print(sigma(w[0]*0 + w[1]*20 + b,activation = 'sigmoid'))"
   ]
  },
  {
   "cell_type": "code",
   "execution_count": 17,
   "metadata": {},
   "outputs": [],
   "source": [
    "x_test = np.array([[3,3],[3,10],[1,5],[12,12],[1,0],[10,100]])\n",
    "z_test = np.dot(w,np.transpose(x_test))+b"
   ]
  },
  {
   "cell_type": "code",
   "execution_count": 18,
   "metadata": {},
   "outputs": [
    {
     "name": "stdout",
     "output_type": "stream",
     "text": [
      "[0.97952137 0.99786899 0.93040024 0.99999981 0.72378618 1.        ]\n"
     ]
    }
   ],
   "source": [
    "predict=sigma(z_test,activation='sigmoid')\n",
    "print(predict)"
   ]
  },
  {
   "cell_type": "code",
   "execution_count": 19,
   "metadata": {},
   "outputs": [
    {
     "data": {
      "text/plain": [
       "array([1, 1, 1, 1, 1, 1])"
      ]
     },
     "execution_count": 19,
     "metadata": {},
     "output_type": "execute_result"
    }
   ],
   "source": [
    "np.where(predict>0.5,1,0)"
   ]
  },
  {
   "cell_type": "code",
   "execution_count": null,
   "metadata": {},
   "outputs": [],
   "source": []
  }
 ],
 "metadata": {
  "kernelspec": {
   "display_name": "Python 3",
   "language": "python",
   "name": "python3"
  },
  "language_info": {
   "codemirror_mode": {
    "name": "ipython",
    "version": 3
   },
   "file_extension": ".py",
   "mimetype": "text/x-python",
   "name": "python",
   "nbconvert_exporter": "python",
   "pygments_lexer": "ipython3",
   "version": "3.6.8"
  }
 },
 "nbformat": 4,
 "nbformat_minor": 2
}
