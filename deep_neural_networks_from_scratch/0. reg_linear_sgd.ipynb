{
 "cells": [
  {
   "cell_type": "code",
   "execution_count": 221,
   "metadata": {},
   "outputs": [],
   "source": [
    "import numpy as np\n",
    "import matplotlib.pyplot as plt\n",
    "import pandas as pd"
   ]
  },
  {
   "cell_type": "code",
   "execution_count": 222,
   "metadata": {},
   "outputs": [],
   "source": [
    "# Initial Parameters\n",
    "x_t = np.array([[1,1],[3,4],[5,5],[7,7],[1,4],[4,4]]) # rescaling factor\n",
    "x = np.transpose(x_t)\n",
    "y_i = np.array([1,0,1,1,0,1])\n",
    "w = np.random.random([x.shape[0]])\n",
    "b = 0\n",
    "alpha = -0.5\n",
    "n = y_i.shape[0]\n",
    "min_cost = 0.001"
   ]
  },
  {
   "cell_type": "code",
   "execution_count": 223,
   "metadata": {},
   "outputs": [],
   "source": [
    "# Calculate probability using softmax(z_i)\n",
    "def sigma(z_i,activation=False):\n",
    "    if(activation==False):\n",
    "        return print('Please choose an activation function')\n",
    "    elif(activation=='sigmoid'):\n",
    "        sig = 1/(1+np.exp(-z_i))\n",
    "        return sig"
   ]
  },
  {
   "cell_type": "code",
   "execution_count": 224,
   "metadata": {},
   "outputs": [],
   "source": [
    "def cost_function(y_i,p_i,loss_function=False): # Calculate the loss and cost function using entering arrays\n",
    "    if(loss_function==False):\n",
    "        return print('Please choose a loss function')\n",
    "    elif(loss_function=='cross_entropy'):\n",
    "        n = y_i.shape[0]\n",
    "        loss_calc = -(y_i*np.log(p_i)+ (1-y_i)*(np.log(1-p_i)))\n",
    "        cost_calc = (1/n)*np.sum(loss_calc)\n",
    "        return loss_calc,cost_calc"
   ]
  },
  {
   "cell_type": "code",
   "execution_count": 225,
   "metadata": {},
   "outputs": [],
   "source": [
    "def grad(p_in,y_in,x_in):\n",
    "    n_in = y_in.shape[0]\n",
    "    dLdb = p_in - y_in\n",
    "    dJdb = (1/n_in)*np.sum(dLdb)  \n",
    "    dJdw = (1/n)*np.dot(dLdb,x_in) # vector dJ/dW_j to update w_j\n",
    "    return dJdw,dJdb"
   ]
  },
  {
   "cell_type": "code",
   "execution_count": 226,
   "metadata": {},
   "outputs": [],
   "source": [
    "z = np.dot(w,x)+b\n",
    "#print('z =',z,'\\ny_i =',y_i,'n =',n, 'w =',w)\n",
    "p_i=sigma(z,activation='sigmoid')\n",
    "#print('p_i = ',p_i)"
   ]
  },
  {
   "cell_type": "code",
   "execution_count": 227,
   "metadata": {},
   "outputs": [
    {
     "name": "stdout",
     "output_type": "stream",
     "text": [
      "Cost Function = 0.6433020674002334 \n",
      "Loss Function vector = [0.66491959 0.79102511 0.5601758  0.51264366 0.74590481 0.58514343]\n"
     ]
    }
   ],
   "source": [
    "l,j= cost_function(y_i,p_i,loss_function='cross_entropy') # l = loss function\n",
    "print('Cost Function =',j,'\\nLoss Function vector =',l)"
   ]
  },
  {
   "cell_type": "code",
   "execution_count": 228,
   "metadata": {},
   "outputs": [
    {
     "name": "stdout",
     "output_type": "stream",
     "text": [
      "[-0.84068519 -0.4867343 ]\n"
     ]
    }
   ],
   "source": [
    "dw,db= grad(p_i,y_i,x_t)\n",
    "print(dw)"
   ]
  },
  {
   "cell_type": "code",
   "execution_count": 229,
   "metadata": {},
   "outputs": [],
   "source": [
    "w += alpha*dw\n",
    "b += alpha*db"
   ]
  },
  {
   "cell_type": "code",
   "execution_count": 230,
   "metadata": {},
   "outputs": [
    {
     "name": "stdout",
     "output_type": "stream",
     "text": [
      "w = [0.46241921 0.2585657 ] \n",
      " b = 0.05719375621498411\n"
     ]
    }
   ],
   "source": [
    "print('w =',w,'\\n b =',b)"
   ]
  },
  {
   "cell_type": "code",
   "execution_count": 231,
   "metadata": {},
   "outputs": [
    {
     "name": "stdout",
     "output_type": "stream",
     "text": [
      "Number of iterations =  18147\n"
     ]
    }
   ],
   "source": [
    "counter = 0\n",
    "while(j>min_cost):\n",
    "#for j in range(100):\n",
    "    z = np.dot(w,x)+b\n",
    "    counter+=1\n",
    "    p_i=sigma(z,activation='sigmoid')\n",
    "    l,j= cost_function(y_i,p_i,loss_function='cross_entropy')\n",
    "    #print('Cost Function =',j,'\\n')\n",
    "    dw,db = grad(p_i,y_i,x_t)\n",
    "    w +=alpha*dw\n",
    "    b +=alpha*db\n",
    "print('Number of iterations = ',counter)"
   ]
  },
  {
   "cell_type": "code",
   "execution_count": 236,
   "metadata": {},
   "outputs": [
    {
     "data": {
      "text/plain": [
       "array([1, 0, 1, 1, 0, 1])"
      ]
     },
     "execution_count": 236,
     "metadata": {},
     "output_type": "execute_result"
    }
   ],
   "source": [
    "np.where(p_i>0.5,1,0)"
   ]
  },
  {
   "cell_type": "code",
   "execution_count": 233,
   "metadata": {},
   "outputs": [
    {
     "data": {
      "text/plain": [
       "array([ 13.16335857, -12.85752043])"
      ]
     },
     "execution_count": 233,
     "metadata": {},
     "output_type": "execute_result"
    }
   ],
   "source": [
    "w"
   ]
  },
  {
   "cell_type": "code",
   "execution_count": 234,
   "metadata": {},
   "outputs": [
    {
     "name": "stdout",
     "output_type": "stream",
     "text": [
      "8.573151380198871e-110\n"
     ]
    }
   ],
   "source": [
    "print(sigma(w[0]*0 + w[1]*20 + b,activation = 'sigmoid'))"
   ]
  }
 ],
 "metadata": {
  "kernelspec": {
   "display_name": "Python 3",
   "language": "python",
   "name": "python3"
  },
  "language_info": {
   "codemirror_mode": {
    "name": "ipython",
    "version": 3
   },
   "file_extension": ".py",
   "mimetype": "text/x-python",
   "name": "python",
   "nbconvert_exporter": "python",
   "pygments_lexer": "ipython3",
   "version": "3.6.6"
  }
 },
 "nbformat": 4,
 "nbformat_minor": 2
}
